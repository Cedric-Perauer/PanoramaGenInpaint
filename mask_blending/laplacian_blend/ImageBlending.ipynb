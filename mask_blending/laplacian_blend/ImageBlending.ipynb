{
 "cells": [
  {
   "cell_type": "markdown",
   "metadata": {},
   "source": [
    "### Import dependencies."
   ]
  },
  {
   "cell_type": "code",
   "execution_count": 1,
   "metadata": {},
   "outputs": [],
   "source": [
    "import numpy as np\n",
    "import matplotlib.pyplot as plt\n",
    "from PIL import Image\n",
    "import cv2"
   ]
  },
  {
   "cell_type": "markdown",
   "metadata": {},
   "source": [
    "### Load provided Gaussian kernel."
   ]
  },
  {
   "cell_type": "code",
   "execution_count": 2,
   "metadata": {},
   "outputs": [],
   "source": [
    "gaussian_kernel = np.load('gaussian-kernel.npy')"
   ]
  },
  {
   "cell_type": "code",
   "execution_count": 3,
   "metadata": {},
   "outputs": [],
   "source": [
    "def read_image(path):\n",
    "    \"\"\"\n",
    "    Read an image from path and return as numpy array\n",
    "    \"\"\"\n",
    "    img = Image.open(path)\n",
    "    return np.array(img)/255.\n",
    "    \n",
    "def resize(image, size):\n",
    "    \"\"\"\n",
    "    Resize an image to the specified size\n",
    "    size: [height, width] or (height, width)\n",
    "    \"\"\"\n",
    "    if len(image.shape) == 2:\n",
    "        # Grayscale image\n",
    "        resized = cv2.resize(image, (size[1], size[0]), interpolation=cv2.INTER_LINEAR)\n",
    "    elif len(image.shape) == 3:\n",
    "        # Color image\n",
    "        resized = cv2.resize(image, (size[1], size[0]), interpolation=cv2.INTER_LINEAR)\n",
    "    else:\n",
    "        raise ValueError(f\"Unsupported image shape: {image.shape}\")\n",
    "    \n",
    "    return resized "
   ]
  },
  {
   "cell_type": "code",
   "execution_count": 4,
   "metadata": {},
   "outputs": [],
   "source": [
    "def pad(image, u_pad=0, v_pad=0, mode='constant', constant_values=0):\n",
    "    \"\"\"\n",
    "    Pad an image with zeros or other values\n",
    "    \"\"\"\n",
    "    if len(image.shape) == 2:\n",
    "        return np.pad(image, ((u_pad, u_pad), (v_pad, v_pad)), mode=mode, constant_values=constant_values)\n",
    "    elif len(image.shape) == 3:\n",
    "        return np.pad(image, ((u_pad, u_pad), (v_pad, v_pad), (0, 0)), mode=mode, constant_values=constant_values)\n",
    "    else:\n",
    "        raise ValueError(f\"Unsupported image shape: {image.shape}\")"
   ]
  },
  {
   "cell_type": "markdown",
   "metadata": {},
   "source": [
    "### Define helper functions and cross-correlation/convolution function."
   ]
  },
  {
   "cell_type": "code",
   "execution_count": 5,
   "metadata": {},
   "outputs": [],
   "source": [
    "def convolution(img, kernel):\n",
    "    MAX_ROWS = img.shape[0]\n",
    "    MAX_COLS = img.shape[1]\n",
    "    kernel_size = kernel.shape[0]\n",
    "    pad_amount = int(kernel_size/2)\n",
    "    gaussian_convolved_img = np.zeros(img.shape)\n",
    "    for i in range(3):\n",
    "        zero_padded = pad(img[:,:,i], u_pad=pad_amount, v_pad=pad_amount)\n",
    "        for r in range(pad_amount, MAX_ROWS+pad_amount):\n",
    "            for c in range(pad_amount, MAX_COLS+pad_amount):\n",
    "    #             print(\"r-pad_amount\", r-pad_amountdddd)\n",
    "    #             print(\"r-pad_amount+kernel_size\", r-pad_amount+kernel_size)\n",
    "                conv = np.multiply(zero_padded[r-pad_amount:r-pad_amount+kernel_size, c-pad_amount:c-pad_amount+kernel_size],kernel)\n",
    "                conv = np.sum(conv)\n",
    "                gaussian_convolved_img[r-pad_amount, c-pad_amount, i] = float(conv)\n",
    "    return gaussian_convolved_img"
   ]
  },
  {
   "cell_type": "code",
   "execution_count": 6,
   "metadata": {},
   "outputs": [],
   "source": [
    "def make_one_D_kernel(kernel):\n",
    "    MAX_ROWS = img.shape[0]\n",
    "    MAX_COLS = img.shape[1]\n",
    "    one_d_gaussian_kernel = kernel\n",
    "    \n",
    "    kernel_matrix = np.zeros((MAX_ROWS, MAX_ROWS))\n",
    "    # print(kernel_matrix.shape)\n",
    "    for m in range(MAX_ROWS):\n",
    "    #     print(m)\n",
    "    #     print(m+(len(one_d_gaussian_kernel)))\n",
    "    #     print(one_d_gaussian_kernel)\n",
    "    #     print()\n",
    "        over = int(len(one_d_gaussian_kernel)/2)\n",
    "        mid = over\n",
    "        lower = max(0,m-over)\n",
    "        upper = min(m+over, MAX_ROWS)\n",
    "        kernel_lower = mid-over if m-over >= 0 else abs(m-over)\n",
    "        kernel_upper = mid+over if m+over < MAX_ROWS else (mid+over)-(m+over-MAX_ROWS)\n",
    "        kernel_matrix[m, lower:upper] = one_d_gaussian_kernel[kernel_lower:kernel_upper]\n",
    "    return kernel_matrix\n",
    "    \n",
    "    "
   ]
  },
  {
   "cell_type": "code",
   "execution_count": 7,
   "metadata": {},
   "outputs": [],
   "source": [
    "def down_sample(img, factor=2):\n",
    "    MAX_ROWS = img.shape[0]\n",
    "    MAX_COLS = img.shape[1]\n",
    "    small_img = np.zeros((int(MAX_ROWS/2), int(MAX_COLS/2), 3))\n",
    "    \n",
    "    small_img[:,:,0]=resize(image=img[:,:,0], size=[int(MAX_ROWS/2), int(MAX_COLS/2)])\n",
    "    small_img[:,:,1]=resize(image=img[:,:,1], size=[int(MAX_ROWS/2), int(MAX_COLS/2)])\n",
    "    small_img[:,:,2]=resize(image=img[:,:,2], size=[int(MAX_ROWS/2), int(MAX_COLS/2)])\n",
    "    return small_img"
   ]
  },
  {
   "cell_type": "code",
   "execution_count": 8,
   "metadata": {},
   "outputs": [],
   "source": [
    "def up_sample(img, factor=2):\n",
    "    MAX_ROWS = img.shape[0]\n",
    "    MAX_COLS = img.shape[1]\n",
    "    small_img = np.zeros((int(MAX_ROWS*2), int(MAX_COLS*2), 3))\n",
    "    \n",
    "    small_img[:,:,0]=resize(image=img[:,:,0], size=[int(MAX_ROWS*2), int(MAX_COLS*2)])\n",
    "    small_img[:,:,1]=resize(image=img[:,:,1], size=[int(MAX_ROWS*2), int(MAX_COLS*2)])\n",
    "    small_img[:,:,2]=resize(image=img[:,:,2], size=[int(MAX_ROWS*2), int(MAX_COLS*2)])\n",
    "    return small_img"
   ]
  },
  {
   "cell_type": "code",
   "execution_count": 9,
   "metadata": {},
   "outputs": [],
   "source": [
    "def one_level_laplacian(img,G):\n",
    "    # generate Gaussian pyramid for Apple\n",
    "    A = img.copy()\n",
    "\n",
    "    # Gaussian blur on Apple\n",
    "    blurred_A = convolution(A, G)\n",
    "\n",
    "    # Downsample blurred A\n",
    "    small_A = down_sample(blurred_A)\n",
    "\n",
    "    # Upsample small, blurred A\n",
    "    # insert zeros between pixels, then apply a gaussian low pass filter\n",
    "    large_A = up_sample(small_A)\n",
    "    upsampled_A = convolution(large_A, G)\n",
    "\n",
    "    # generate Laplacian level for A\n",
    "    laplace_A = A - upsampled_A\n",
    "\n",
    "    # reconstruct A\n",
    "#     reconstruct_A = laplace_A + upsampled_A\n",
    "    \n",
    "    return small_A, upsampled_A, laplace_A\n"
   ]
  },
  {
   "cell_type": "code",
   "execution_count": 10,
   "metadata": {},
   "outputs": [],
   "source": [
    "def F_transform(small_A, G):\n",
    "    large_A = up_sample(small_A)\n",
    "    upsampled_A = convolution(large_A, G)\n",
    "    return upsampled_A"
   ]
  },
  {
   "cell_type": "code",
   "execution_count": 11,
   "metadata": {},
   "outputs": [],
   "source": [
    "def gamma_decode(img):\n",
    "    new_img = np.zeros((img.shape))\n",
    "    for r in range(img.shape[0]):\n",
    "        for c in range(img.shape[1]):\n",
    "            new_img[r,c,0] = np.power(img[r,c,0], 1/1.2)\n",
    "            new_img[r,c,1] = np.power(img[r,c,1], 1/1.2)\n",
    "            new_img[r,c,2] = np.power(img[r,c,2], 1/1.2)\n",
    "    return new_img"
   ]
  },
  {
   "cell_type": "markdown",
   "metadata": {},
   "source": [
    "## Run Laplacian Pyramid on Apple"
   ]
  },
  {
   "cell_type": "code",
   "execution_count": 12,
   "metadata": {},
   "outputs": [],
   "source": [
    "img = read_image('apple.png')\n",
    "img = gamma_decode(img)"
   ]
  },
  {
   "cell_type": "code",
   "execution_count": 13,
   "metadata": {},
   "outputs": [
    {
     "name": "stderr",
     "output_type": "stream",
     "text": [
      "Clipping input data to the valid range for imshow with RGB data ([0..1] for floats or [0..255] for integers). Got range [0.0..101.26285095706629].\n"
     ]
    },
    {
     "data": {
      "image/png": "[encoded data removed]",
      "text/plain": [
       "<Figure size 640x480 with 1 Axes>"
      ]
     },
     "metadata": {},
     "output_type": "display_data"
    }
   ],
   "source": [
    "plt.imshow(img)\n",
    "plt.show()"
   ]
  },
  {
   "cell_type": "code",
   "execution_count": 14,
   "metadata": {},
   "outputs": [
    {
     "data": {
      "text/plain": [
       "(448, 624, 3)"
      ]
     },
     "execution_count": 14,
     "metadata": {},
     "output_type": "execute_result"
    }
   ],
   "source": [
    "img.shape"
   ]
  },
  {
   "cell_type": "code",
   "execution_count": 15,
   "metadata": {},
   "outputs": [
    {
     "name": "stdout",
     "output_type": "stream",
     "text": [
      "MAX_ROWS =  448\n",
      "MAX_COLS =  624\n"
     ]
    }
   ],
   "source": [
    "MAX_ROWS = img.shape[0]\n",
    "MAX_COLS = img.shape[1]\n",
    "print(\"MAX_ROWS = \", MAX_ROWS)\n",
    "print(\"MAX_COLS = \", MAX_COLS)"
   ]
  },
  {
   "cell_type": "code",
   "execution_count": 16,
   "metadata": {},
   "outputs": [],
   "source": [
    "G = gaussian_kernel"
   ]
  },
  {
   "cell_type": "code",
   "execution_count": 17,
   "metadata": {},
   "outputs": [],
   "source": [
    "G = gaussian_kernel\n",
    "apple_G_small_gaussian_blurred = []\n",
    "apple_F_upsampled = []\n",
    "apple_L_laplace = []\n",
    "\n",
    "# Load Images\n",
    "apple = read_image('apple.png')\n",
    "orange = read_image('orange.png')\n",
    "apple = gamma_decode(apple)\n",
    "orange = gamma_decode(orange)\n",
    "\n",
    "img = apple\n",
    "\n",
    "for i in range(4):\n",
    "    small_A, upsampled_A, laplace_A = one_level_laplacian(img, G)\n",
    "    apple_G_small_gaussian_blurred.append(small_A)\n",
    "    apple_F_upsampled.append(upsampled_A)\n",
    "    apple_L_laplace.append(laplace_A)\n",
    "    img = small_A\n",
    "    "
   ]
  },
  {
   "cell_type": "code",
   "execution_count": 18,
   "metadata": {},
   "outputs": [],
   "source": [
    "# reconstruct image\n",
    "apple_reconstructed_imgs = []\n",
    "start_F = apple_G_small_gaussian_blurred[-1]\n",
    "\n",
    "for i in reversed(range(0, 4)):\n",
    "#     print(start_F.shape)\n",
    "#     print(L_laplace[i].shape)\n",
    "    reconstructed_F = F_transform(start_F, G) + apple_L_laplace[i]\n",
    "#     print(reconstructed_F.shape)\n",
    "    apple_reconstructed_imgs.append(reconstructed_F)\n",
    "    start_F = reconstructed_F\n",
    "    "
   ]
  },
  {
   "cell_type": "markdown",
   "metadata": {},
   "source": [
    "## Run Laplacian Pyramid on Orange"
   ]
  },
  {
   "cell_type": "code",
   "execution_count": 19,
   "metadata": {},
   "outputs": [],
   "source": [
    "\n",
    "G = gaussian_kernel\n",
    "orange_G_small_gaussian_blurred = []\n",
    "orange_F_upsampled = []\n",
    "orange_L_laplace = []\n",
    "\n",
    "# # Load Images\n",
    "# apple = read_image('ps2/apple.png')\n",
    "# orange = read_image('ps2/orange.png')\n",
    "# apple = gamma_decode(apple)\n",
    "# orange = gamma_decode(orange)\n",
    "\n",
    "img = orange.copy()\n",
    "\n",
    "for i in range(4):\n",
    "    small_A, upsampled_A, laplace_A = one_level_laplacian(img, G)\n",
    "    orange_G_small_gaussian_blurred.append(small_A)\n",
    "    orange_F_upsampled.append(upsampled_A)\n",
    "    orange_L_laplace.append(laplace_A)\n",
    "    img = small_A\n",
    "    "
   ]
  },
  {
   "cell_type": "code",
   "execution_count": 20,
   "metadata": {},
   "outputs": [],
   "source": [
    "# reconstruct image\n",
    "orange_reconstructed_imgs = []\n",
    "start_F = orange_G_small_gaussian_blurred[-1]\n",
    "\n",
    "for i in reversed(range(0, 4)):\n",
    "#     print()\n",
    "#     print(start_F.shape)\n",
    "#     print(orange_L_laplace[i].shape)\n",
    "    reconstructed_F = F_transform(start_F, G) + orange_L_laplace[i]\n",
    "#     print(reconstructed_F.shape)\n",
    "    orange_reconstructed_imgs.append(reconstructed_F)\n",
    "    start_F = reconstructed_F\n",
    "    "
   ]
  },
  {
   "cell_type": "markdown",
   "metadata": {},
   "source": [
    "## Run Gaussian Pyramid on Mask.png"
   ]
  },
  {
   "cell_type": "code",
   "execution_count": 21,
   "metadata": {},
   "outputs": [],
   "source": [
    "mask = read_image('mask.png')"
   ]
  },
  {
   "cell_type": "code",
   "execution_count": 22,
   "metadata": {},
   "outputs": [],
   "source": [
    "new_mask = np.zeros((orange.shape[0], orange.shape[1]))"
   ]
  },
  {
   "cell_type": "code",
   "execution_count": 23,
   "metadata": {},
   "outputs": [],
   "source": [
    "ncols = orange.shape[1]"
   ]
  },
  {
   "cell_type": "code",
   "execution_count": 24,
   "metadata": {},
   "outputs": [],
   "source": [
    "new_mask[:, :int(ncols/2)]=255"
   ]
  },
  {
   "cell_type": "code",
   "execution_count": 25,
   "metadata": {},
   "outputs": [],
   "source": [
    "mask = new_mask"
   ]
  },
  {
   "cell_type": "code",
   "execution_count": 26,
   "metadata": {},
   "outputs": [
    {
     "data": {
      "image/png": "[encoded data removed]",
      "text/plain": [
       "<Figure size 640x480 with 1 Axes>"
      ]
     },
     "metadata": {},
     "output_type": "display_data"
    }
   ],
   "source": [
    "plt.imshow(mask)\n",
    "plt.show()"
   ]
  },
  {
   "cell_type": "code",
   "execution_count": 27,
   "metadata": {},
   "outputs": [
    {
     "data": {
      "text/plain": [
       "(448, 624)"
      ]
     },
     "execution_count": 27,
     "metadata": {},
     "output_type": "execute_result"
    }
   ],
   "source": [
    "mask.shape"
   ]
  },
  {
   "cell_type": "code",
   "execution_count": 28,
   "metadata": {},
   "outputs": [],
   "source": [
    "def one_layer_convolution(img, kernel):\n",
    "    MAX_ROWS = img.shape[0]\n",
    "    MAX_COLS = img.shape[1]\n",
    "    kernel_size = kernel.shape[0]\n",
    "#     pad_amount = int(kernel_size/2)\n",
    "    gaussian_convolved_img = np.zeros(img.shape, dtype='uint8')\n",
    "#     zero_padded = np.pad(img[:,:], pad_amount, pad_with, padder=0)\n",
    "    for r in range(0, MAX_ROWS):\n",
    "        for c in range(0, MAX_COLS):\n",
    "#             print(\"r-pad_amount\", r-pad_amount)\n",
    "#             print(\"r-pad_amount+kernel_size\", r-pad_amount+kernel_size)\n",
    "            kernel_r_upper = kernel_size if r+kernel_size < MAX_ROWS else MAX_ROWS-(r+kernel_size)+1\n",
    "            kernel_c_upper = kernel_size if c+kernel_size < MAX_COLS else MAX_COLS-(c+kernel_size)+1\n",
    "    \n",
    "            conv = np.multiply(img[r:r+kernel_size, c:c+kernel_size],kernel[0:kernel_r_upper, 0:kernel_c_upper])\n",
    "            conv = np.sum(conv)\n",
    "            gaussian_convolved_img[r, c] = float(conv)\n",
    "    return gaussian_convolved_img"
   ]
  },
  {
   "cell_type": "code",
   "execution_count": 29,
   "metadata": {},
   "outputs": [],
   "source": [
    "def one_layer_convolution(img, kernel):\n",
    "    MAX_ROWS = img.shape[0]\n",
    "    MAX_COLS = img.shape[1]\n",
    "    kernel_size = kernel.shape[0]\n",
    "#     pad_amount = int(kernel_size/2)\n",
    "    gaussian_convolved_img = np.zeros(img.shape)\n",
    "#     zero_padded = np.pad(img[:,:], pad_amount, pad_with, padder=0)\n",
    "    for r in range(0, MAX_ROWS):\n",
    "        for c in range(0, MAX_COLS):\n",
    "#             print(\"r-pad_amount\", r-pad_amount)\n",
    "#             print(\"r-pad_amount+kernel_size\", r-pad_amount+kernel_size)\n",
    "            kernel_r_upper = kernel_size if r+kernel_size < MAX_ROWS else MAX_ROWS-(r+kernel_size)+1\n",
    "            kernel_c_upper = kernel_size if c+kernel_size < MAX_COLS else MAX_COLS-(c+kernel_size)+1\n",
    "    \n",
    "            conv = np.multiply(img[r:r+kernel_size, c:c+kernel_size],kernel[0:kernel_r_upper, 0:kernel_c_upper])\n",
    "            conv = np.sum(conv)\n",
    "            gaussian_convolved_img[r, c] = float(conv)\n",
    "    return gaussian_convolved_img"
   ]
  },
  {
   "cell_type": "code",
   "execution_count": 30,
   "metadata": {},
   "outputs": [],
   "source": [
    "def one_layer_convolution(img, kernel):\n",
    "    MAX_ROWS = img.shape[0]\n",
    "    MAX_COLS = img.shape[1]\n",
    "    kernel_size = kernel.shape[0]\n",
    "    #     pad_amount = int(kernel_size/2)\n",
    "    gaussian_convolved_img = np.zeros(img.shape)\n",
    "    #     zero_padded = np.pad(img[:,:], pad_amount, pad_with, padder=0)\n",
    "    for r in range(0, MAX_ROWS):\n",
    "        for c in range(0, MAX_COLS):\n",
    "    #             print(\"r-pad_amount\", r-pad_amount)\n",
    "    #             print(\"r-pad_amount+kernel_size\", r-pad_amount+kernel_size)\n",
    "            kernel_r_upper = kernel_size if r+kernel_size <= MAX_ROWS else kernel_size-((r+kernel_size)-MAX_ROWS)\n",
    "            kernel_c_upper = kernel_size if c+kernel_size <= MAX_COLS else kernel_size-((c+kernel_size)-MAX_COLS)\n",
    "            new_kernel = kernel[0:kernel_r_upper, 0:kernel_c_upper]/np.sum(kernel[0:kernel_r_upper, 0:kernel_c_upper])\n",
    "            conv = np.multiply(img[r:min(MAX_ROWS,r+kernel_size), c:min(MAX_COLS,c+kernel_size)],new_kernel)\n",
    "            conv = np.sum(conv)\n",
    "            gaussian_convolved_img[r, c] = float(conv)\n",
    "    return gaussian_convolved_img\n",
    "\n"
   ]
  },
  {
   "cell_type": "code",
   "execution_count": 31,
   "metadata": {},
   "outputs": [],
   "source": [
    "def one_layer_down_sample(img, factor=2):\n",
    "    MAX_ROWS = img.shape[0]\n",
    "    MAX_COLS = img.shape[1]\n",
    "    small_img = np.zeros((int(MAX_ROWS/2), int(MAX_COLS/2)))\n",
    "    \n",
    "    small_img[:,:]=resize(image=img[:,:], size=[int(MAX_ROWS/2), int(MAX_COLS/2)])\n",
    "    \n",
    "    return small_img"
   ]
  },
  {
   "cell_type": "code",
   "execution_count": 32,
   "metadata": {},
   "outputs": [],
   "source": [
    "def one_level_gaussian_pyramid(img, G):\n",
    "    # generate Gaussian pyramid for img\n",
    "    A = img.copy()\n",
    "\n",
    "    # Gaussian blur on img\n",
    "    blurred_A = one_layer_convolution(A, G)\n",
    "\n",
    "    # Downsample blurred A\n",
    "    small_A = one_layer_down_sample(blurred_A)\n",
    "\n",
    "    return small_A\n"
   ]
  },
  {
   "cell_type": "code",
   "execution_count": 33,
   "metadata": {},
   "outputs": [],
   "source": [
    "\n",
    "G = gaussian_kernel\n",
    "mask_G_small_gaussian_blurred = [mask]\n",
    "# F_upsampled = []\n",
    "# L_laplace = []\n",
    "\n",
    "# Load Images\n",
    "\n",
    "\n",
    "img = mask.copy()\n",
    "\n",
    "for i in range(5):\n",
    "    small_A = one_level_gaussian_pyramid(img, G)\n",
    "    mask_G_small_gaussian_blurred.append(small_A)\n",
    "#     F_upsampled.append(upsampled_A)\n",
    "#     L_laplace.append(laplace_A)\n",
    "    img = small_A\n",
    "    "
   ]
  },
  {
   "cell_type": "code",
   "execution_count": 34,
   "metadata": {},
   "outputs": [],
   "source": [
    "for i in range(len(mask_G_small_gaussian_blurred)):\n",
    "    mask_G_small_gaussian_blurred[i] = mask_G_small_gaussian_blurred[i]/np.max(mask_G_small_gaussian_blurred[i])\n",
    "    \n",
    "    "
   ]
  },
  {
   "cell_type": "code",
   "execution_count": 35,
   "metadata": {},
   "outputs": [
    {
     "data": {
      "text/plain": [
       "1.0"
      ]
     },
     "execution_count": 35,
     "metadata": {},
     "output_type": "execute_result"
    }
   ],
   "source": [
    "np.max(mask_G_small_gaussian_blurred[-1])"
   ]
  },
  {
   "cell_type": "code",
   "execution_count": 36,
   "metadata": {},
   "outputs": [
    {
     "data": {
      "text/plain": [
       "<matplotlib.image.AxesImage at 0x160580e20>"
      ]
     },
     "execution_count": 36,
     "metadata": {},
     "output_type": "execute_result"
    },
    {
     "data": {
      "image/png": "[encoded data removed]",
      "text/plain": [
       "<Figure size 640x480 with 1 Axes>"
      ]
     },
     "metadata": {},
     "output_type": "display_data"
    }
   ],
   "source": [
    "plt.imshow(mask_G_small_gaussian_blurred[-1])"
   ]
  },
  {
   "cell_type": "markdown",
   "metadata": {},
   "source": [
    "## Time for Laplacian blending!"
   ]
  },
  {
   "cell_type": "code",
   "execution_count": 37,
   "metadata": {},
   "outputs": [],
   "source": [
    "# orange_G_small_gaussian_blurred = []\n",
    "# orange_F_upsampled = []\n",
    "# orange_L_laplace = []"
   ]
  },
  {
   "cell_type": "code",
   "execution_count": 38,
   "metadata": {},
   "outputs": [
    {
     "name": "stdout",
     "output_type": "stream",
     "text": [
      "(448, 624)\n",
      "(224, 312)\n",
      "(112, 156)\n",
      "(56, 78)\n",
      "(28, 39)\n",
      "(14, 19)\n"
     ]
    }
   ],
   "source": [
    "for i in mask_G_small_gaussian_blurred:\n",
    "    print(i.shape)"
   ]
  },
  {
   "cell_type": "code",
   "execution_count": 39,
   "metadata": {},
   "outputs": [
    {
     "name": "stdout",
     "output_type": "stream",
     "text": [
      "(224, 312, 3)\n",
      "(112, 156, 3)\n",
      "(56, 78, 3)\n",
      "(28, 39, 3)\n"
     ]
    }
   ],
   "source": [
    "for i in orange_G_small_gaussian_blurred:\n",
    "    print(i.shape)"
   ]
  },
  {
   "cell_type": "code",
   "execution_count": 40,
   "metadata": {},
   "outputs": [
    {
     "name": "stdout",
     "output_type": "stream",
     "text": [
      "(448, 624, 3)\n",
      "(224, 312, 3)\n",
      "(112, 156, 3)\n",
      "(56, 78, 3)\n"
     ]
    }
   ],
   "source": [
    "for i in orange_L_laplace:\n",
    "    print(i.shape)"
   ]
  },
  {
   "cell_type": "code",
   "execution_count": 41,
   "metadata": {},
   "outputs": [],
   "source": [
    "mask_apple_1d = mask_G_small_gaussian_blurred[-2]\n",
    "mask_orange_1d = 1- mask_G_small_gaussian_blurred[-2]\n",
    "\n",
    "mask_apple = np.stack(np.array([mask_apple_1d,mask_apple_1d,mask_apple_1d]), axis=2)\n",
    "mask_orange = np.stack(np.array([mask_orange_1d,mask_orange_1d,mask_orange_1d]), axis=2)\n",
    "\n",
    "G_c = apple_G_small_gaussian_blurred[-1]*mask_apple + \\\n",
    "        orange_G_small_gaussian_blurred[-1]*mask_orange"
   ]
  },
  {
   "cell_type": "code",
   "execution_count": 42,
   "metadata": {},
   "outputs": [],
   "source": [
    "F_1 = up_sample(G_c)\n",
    "upsampled_F1 = convolution(F_1, G)"
   ]
  },
  {
   "cell_type": "code",
   "execution_count": 43,
   "metadata": {},
   "outputs": [],
   "source": [
    "mask_apple_1d = mask_G_small_gaussian_blurred[-3]\n",
    "mask_orange_1d = 1- mask_G_small_gaussian_blurred[-3]\n",
    "\n",
    "mask_apple = np.stack(np.array([mask_apple_1d,mask_apple_1d,mask_apple_1d]), axis=2)\n",
    "mask_orange = np.stack(np.array([mask_orange_1d,mask_orange_1d,mask_orange_1d]), axis=2)"
   ]
  },
  {
   "cell_type": "code",
   "execution_count": 44,
   "metadata": {},
   "outputs": [],
   "source": [
    "L_a = apple_L_laplace[-1]\n",
    "L_o = orange_L_laplace[-1]"
   ]
  },
  {
   "cell_type": "code",
   "execution_count": 45,
   "metadata": {},
   "outputs": [
    {
     "data": {
      "text/plain": [
       "<matplotlib.image.AxesImage at 0x1605b73a0>"
      ]
     },
     "execution_count": 45,
     "metadata": {},
     "output_type": "execute_result"
    },
    {
     "data": {
      "image/png": "[encoded data removed]",
      "text/plain": [
       "<Figure size 640x480 with 1 Axes>"
      ]
     },
     "metadata": {},
     "output_type": "display_data"
    }
   ],
   "source": [
    "plt.imshow(mask_apple)"
   ]
  },
  {
   "cell_type": "code",
   "execution_count": 46,
   "metadata": {},
   "outputs": [
    {
     "data": {
      "text/plain": [
       "<matplotlib.image.AxesImage at 0x160875fd0>"
      ]
     },
     "execution_count": 46,
     "metadata": {},
     "output_type": "execute_result"
    },
    {
     "data": {
      "image/png": "[encoded data removed]",
      "text/plain": [
       "<Figure size 640x480 with 1 Axes>"
      ]
     },
     "metadata": {},
     "output_type": "display_data"
    }
   ],
   "source": [
    "plt.imshow(mask_orange)"
   ]
  },
  {
   "cell_type": "code",
   "execution_count": 47,
   "metadata": {},
   "outputs": [],
   "source": [
    "L_c = (mask_apple * L_a) + (mask_orange * L_o)"
   ]
  },
  {
   "cell_type": "code",
   "execution_count": 48,
   "metadata": {},
   "outputs": [
    {
     "name": "stderr",
     "output_type": "stream",
     "text": [
      "Clipping input data to the valid range for imshow with RGB data ([0..1] for floats or [0..255] for integers). Got range [-15.352049053841355..29.180901870262225].\n"
     ]
    },
    {
     "data": {
      "text/plain": [
       "<matplotlib.image.AxesImage at 0x160e6c340>"
      ]
     },
     "execution_count": 48,
     "metadata": {},
     "output_type": "execute_result"
    },
    {
     "data": {
      "image/png": "[encoded data removed]",
      "text/plain": [
       "<Figure size 640x480 with 1 Axes>"
      ]
     },
     "metadata": {},
     "output_type": "display_data"
    }
   ],
   "source": [
    "plt.imshow(L_c)"
   ]
  },
  {
   "cell_type": "code",
   "execution_count": 49,
   "metadata": {},
   "outputs": [],
   "source": [
    "F_2 = L_c + upsampled_F1"
   ]
  },
  {
   "cell_type": "code",
   "execution_count": 50,
   "metadata": {},
   "outputs": [
    {
     "data": {
      "text/plain": [
       "(56, 78, 3)"
      ]
     },
     "execution_count": 50,
     "metadata": {},
     "output_type": "execute_result"
    }
   ],
   "source": [
    "upsampled_F1.shape"
   ]
  },
  {
   "cell_type": "code",
   "execution_count": 51,
   "metadata": {},
   "outputs": [
    {
     "name": "stderr",
     "output_type": "stream",
     "text": [
      "Clipping input data to the valid range for imshow with RGB data ([0..1] for floats or [0..255] for integers). Got range [6.708552265295131..99.0563477973432].\n"
     ]
    },
    {
     "data": {
      "text/plain": [
       "<matplotlib.image.AxesImage at 0x160ee3b50>"
      ]
     },
     "execution_count": 51,
     "metadata": {},
     "output_type": "execute_result"
    },
    {
     "data": {
      "image/png": "[encoded data removed]",
      "text/plain": [
       "<Figure size 640x480 with 1 Axes>"
      ]
     },
     "metadata": {},
     "output_type": "display_data"
    }
   ],
   "source": [
    "F1_plot = np.array(upsampled_F1)\n",
    "plt.imshow(F1_plot)"
   ]
  },
  {
   "cell_type": "code",
   "execution_count": 52,
   "metadata": {},
   "outputs": [],
   "source": [
    "new_L_c = L_c + (1-L_c)"
   ]
  },
  {
   "cell_type": "code",
   "execution_count": 53,
   "metadata": {},
   "outputs": [
    {
     "name": "stderr",
     "output_type": "stream",
     "text": [
      "Clipping input data to the valid range for imshow with RGB data ([0..1] for floats or [0..255] for integers). Got range [-15.352049053841355..29.180901870262225].\n"
     ]
    },
    {
     "data": {
      "text/plain": [
       "<matplotlib.image.AxesImage at 0x160f5ae50>"
      ]
     },
     "execution_count": 53,
     "metadata": {},
     "output_type": "execute_result"
    },
    {
     "data": {
      "image/png": "[encoded data removed]",
      "text/plain": [
       "<Figure size 640x480 with 1 Axes>"
      ]
     },
     "metadata": {},
     "output_type": "display_data"
    }
   ],
   "source": [
    "plt.imshow(L_c)"
   ]
  },
  {
   "cell_type": "code",
   "execution_count": 54,
   "metadata": {},
   "outputs": [],
   "source": [
    "F_2 = L_c + upsampled_F1"
   ]
  },
  {
   "cell_type": "code",
   "execution_count": 55,
   "metadata": {},
   "outputs": [
    {
     "name": "stderr",
     "output_type": "stream",
     "text": [
      "Clipping input data to the valid range for imshow with RGB data ([0..1] for floats or [0..255] for integers). Got range [4.260244147692973..99.66635059483815].\n"
     ]
    },
    {
     "data": {
      "text/plain": [
       "<matplotlib.image.AxesImage at 0x1607d1af0>"
      ]
     },
     "execution_count": 55,
     "metadata": {},
     "output_type": "execute_result"
    },
    {
     "data": {
      "image/png": "[encoded data removed]",
      "text/plain": [
       "<Figure size 640x480 with 1 Axes>"
      ]
     },
     "metadata": {},
     "output_type": "display_data"
    }
   ],
   "source": [
    "F2_plot = np.array(F_2)\n",
    "plt.imshow(F2_plot)"
   ]
  },
  {
   "cell_type": "code",
   "execution_count": 56,
   "metadata": {},
   "outputs": [],
   "source": [
    "\n",
    "reconstructed_imgs = []\n",
    "mask_apple_1d = mask_G_small_gaussian_blurred[4]\n",
    "mask_orange_1d = 1- mask_G_small_gaussian_blurred[4]\n",
    "\n",
    "mask_apple = np.stack(np.array([mask_apple_1d,mask_apple_1d,mask_apple_1d]), axis=2)\n",
    "mask_orange = np.stack(np.array([mask_orange_1d,mask_orange_1d,mask_orange_1d]), axis=2)\n",
    "\n",
    "G_c = apple_G_small_gaussian_blurred[3]*mask_apple + \\\n",
    "        orange_G_small_gaussian_blurred[3]*mask_orange\n",
    "\n",
    "F_1 = up_sample(G_c)\n",
    "upsampled_F1 = convolution(F_1, G)\n",
    "\n",
    "mask_apple_1d = mask_G_small_gaussian_blurred[3]\n",
    "mask_orange_1d = 1- mask_G_small_gaussian_blurred[3]\n",
    "\n",
    "mask_apple = np.stack(np.array([mask_apple_1d,mask_apple_1d,mask_apple_1d]), axis=2)\n",
    "mask_orange = np.stack(np.array([mask_orange_1d,mask_orange_1d,mask_orange_1d]), axis=2)\n",
    "\n",
    "L_a = apple_L_laplace[3]\n",
    "L_o = orange_L_laplace[3]\n",
    "\n",
    "L_c = (mask_apple * L_a) + (mask_orange * L_o)\n",
    "F_2 = L_c + upsampled_F1\n",
    "reconstructed_imgs.append(F_2)"
   ]
  },
  {
   "cell_type": "code",
   "execution_count": 57,
   "metadata": {},
   "outputs": [
    {
     "name": "stdout",
     "output_type": "stream",
     "text": [
      "(112, 156, 3)\n",
      "(112, 156, 3)\n"
     ]
    }
   ],
   "source": [
    "# F_1 = F_2\n",
    "F_1 = up_sample(F_2)\n",
    "upsampled_F1 = convolution(F_1, G)\n",
    "\n",
    "mask_apple_1d = mask_G_small_gaussian_blurred[2]\n",
    "mask_orange_1d = 1- mask_G_small_gaussian_blurred[2]\n",
    "\n",
    "mask_apple = np.stack(np.array([mask_apple_1d,mask_apple_1d,mask_apple_1d]), axis=2)\n",
    "mask_orange = np.stack(np.array([mask_orange_1d,mask_orange_1d,mask_orange_1d]), axis=2)\n",
    "print(mask_apple.shape)\n",
    "\n",
    "L_a = apple_L_laplace[2]\n",
    "L_o = orange_L_laplace[2]\n",
    "\n",
    "L_c = (mask_apple * L_a) + (mask_orange * L_o)\n",
    "print(upsampled_F1.shape)\n",
    "F_2 = L_c + upsampled_F1\n",
    "reconstructed_imgs.append(F_2)"
   ]
  },
  {
   "cell_type": "code",
   "execution_count": 58,
   "metadata": {},
   "outputs": [
    {
     "name": "stderr",
     "output_type": "stream",
     "text": [
      "Clipping input data to the valid range for imshow with RGB data ([0..1] for floats or [0..255] for integers). Got range [1.8978166970075812..100.68660571517896].\n"
     ]
    },
    {
     "data": {
      "text/plain": [
       "<matplotlib.image.AxesImage at 0x160fc7e50>"
      ]
     },
     "execution_count": 58,
     "metadata": {},
     "output_type": "execute_result"
    },
    {
     "data": {
      "image/png": "[encoded data removed]",
      "text/plain": [
       "<Figure size 640x480 with 1 Axes>"
      ]
     },
     "metadata": {},
     "output_type": "display_data"
    }
   ],
   "source": [
    "plt.imshow(F_2)"
   ]
  },
  {
   "cell_type": "code",
   "execution_count": 59,
   "metadata": {},
   "outputs": [
    {
     "name": "stdout",
     "output_type": "stream",
     "text": [
      "(224, 312, 3)\n",
      "(224, 312, 3)\n"
     ]
    }
   ],
   "source": [
    "# F_1 = F_2\n",
    "F_1 = up_sample(F_2)\n",
    "upsampled_F1 = convolution(F_1, G)\n",
    "\n",
    "mask_apple_1d = mask_G_small_gaussian_blurred[1]\n",
    "mask_orange_1d = 1- mask_G_small_gaussian_blurred[1]\n",
    "\n",
    "mask_apple = np.stack(np.array([mask_apple_1d,mask_apple_1d,mask_apple_1d]), axis=2)\n",
    "mask_orange = np.stack(np.array([mask_orange_1d,mask_orange_1d,mask_orange_1d]), axis=2)\n",
    "print(mask_apple.shape)\n",
    "\n",
    "L_a = apple_L_laplace[1]\n",
    "L_o = orange_L_laplace[1]\n",
    "\n",
    "L_c = (mask_apple * L_a) + (mask_orange * L_o)\n",
    "print(upsampled_F1.shape)\n",
    "F_2 = L_c + upsampled_F1\n",
    "reconstructed_imgs.append(F_2)"
   ]
  },
  {
   "cell_type": "code",
   "execution_count": 60,
   "metadata": {},
   "outputs": [
    {
     "name": "stderr",
     "output_type": "stream",
     "text": [
      "Clipping input data to the valid range for imshow with RGB data ([0..1] for floats or [0..255] for integers). Got range [0.3928227473258308..101.09497378067996].\n"
     ]
    },
    {
     "data": {
      "text/plain": [
       "<matplotlib.image.AxesImage at 0x1611481c0>"
      ]
     },
     "execution_count": 60,
     "metadata": {},
     "output_type": "execute_result"
    },
    {
     "data": {
      "image/png": "[encoded data removed]",
      "text/plain": [
       "<Figure size 640x480 with 1 Axes>"
      ]
     },
     "metadata": {},
     "output_type": "display_data"
    }
   ],
   "source": [
    "plt.imshow(F_2)"
   ]
  },
  {
   "cell_type": "code",
   "execution_count": 61,
   "metadata": {},
   "outputs": [
    {
     "name": "stdout",
     "output_type": "stream",
     "text": [
      "(448, 624, 3)\n",
      "(448, 624, 3)\n"
     ]
    }
   ],
   "source": [
    "# F_1 = F_2\n",
    "F_1 = up_sample(F_2)\n",
    "upsampled_F1 = convolution(F_1, G)\n",
    "\n",
    "mask_apple_1d = mask_G_small_gaussian_blurred[0]\n",
    "mask_orange_1d = 1- mask_G_small_gaussian_blurred[0]\n",
    "\n",
    "mask_apple = np.stack(np.array([mask_apple_1d,mask_apple_1d,mask_apple_1d]), axis=2)\n",
    "mask_orange = np.stack(np.array([mask_orange_1d,mask_orange_1d,mask_orange_1d]), axis=2)\n",
    "print(mask_apple.shape)\n",
    "\n",
    "L_a = apple_L_laplace[0]\n",
    "L_o = orange_L_laplace[0]\n",
    "\n",
    "L_c = (mask_apple * L_a) + (mask_orange * L_o)\n",
    "print(upsampled_F1.shape)\n",
    "F_2 = L_c + upsampled_F1\n",
    "reconstructed_imgs.append(F_2)"
   ]
  },
  {
   "cell_type": "code",
   "execution_count": 62,
   "metadata": {},
   "outputs": [
    {
     "name": "stderr",
     "output_type": "stream",
     "text": [
      "Clipping input data to the valid range for imshow with RGB data ([0..1] for floats or [0..255] for integers). Got range [-4.440892098500626e-16..101.26285095706629].\n"
     ]
    },
    {
     "data": {
      "text/plain": [
       "<matplotlib.image.AxesImage at 0x1611b95e0>"
      ]
     },
     "execution_count": 62,
     "metadata": {},
     "output_type": "execute_result"
    },
    {
     "data": {
      "image/png": "[encoded data removed]",
      "text/plain": [
       "<Figure size 640x480 with 1 Axes>"
      ]
     },
     "metadata": {},
     "output_type": "display_data"
    }
   ],
   "source": [
    "plt.imshow(F_2)"
   ]
  },
  {
   "cell_type": "code",
   "execution_count": 63,
   "metadata": {},
   "outputs": [
    {
     "ename": "NameError",
     "evalue": "name 'write_image' is not defined",
     "output_type": "error",
     "traceback": [
      "\u001b[0;31m---------------------------------------------------------------------------\u001b[0m",
      "\u001b[0;31mNameError\u001b[0m                                 Traceback (most recent call last)",
      "Cell \u001b[0;32mIn[63], line 1\u001b[0m\n\u001b[0;32m----> 1\u001b[0m \u001b[43mwrite_image\u001b[49m(path\u001b[38;5;241m=\u001b[39m\u001b[38;5;124m'\u001b[39m\u001b[38;5;124mapple-and-orange.png\u001b[39m\u001b[38;5;124m'\u001b[39m, image\u001b[38;5;241m=\u001b[39mF_2)\n",
      "\u001b[0;31mNameError\u001b[0m: name 'write_image' is not defined"
     ]
    }
   ],
   "source": [
    "write_image(path='apple-and-orange.png', image=F_2)"
   ]
  },
  {
   "cell_type": "code",
   "execution_count": null,
   "metadata": {},
   "outputs": [],
   "source": []
  }
 ],
 "metadata": {
  "kernelspec": {
   "display_name": "autoinst",
   "language": "python",
   "name": "python3"
  },
  "language_info": {
   "codemirror_mode": {
    "name": "ipython",
    "version": 3
   },
   "file_extension": ".py",
   "mimetype": "text/x-python",
   "name": "python",
   "nbconvert_exporter": "python",
   "pygments_lexer": "ipython3",
   "version": "3.9.20"
  }
 },
 "nbformat": 4,
 "nbformat_minor": 4
}
